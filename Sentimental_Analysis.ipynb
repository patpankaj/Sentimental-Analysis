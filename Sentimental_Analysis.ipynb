{
  "cells": [
    {
      "cell_type": "markdown",
      "metadata": {
        "id": "Vgj0oobU0Noh"
      },
      "source": [
        "# Problem Statement\n",
        "To sentiment the Tweet whether it is possitive tweet or negative\n",
        "\n",
        "for that we use Navie bayes alogorithm for classification problem "
      ]
    },
    {
      "cell_type": "markdown",
      "metadata": {
        "id": "aKMC7HPw0Nok"
      },
      "source": [
        "# import labraries"
      ]
    },
    {
      "cell_type": "code",
      "execution_count": null,
      "metadata": {
        "id": "Pwwjv2-WAJN0"
      },
      "outputs": [],
      "source": [
        "#import labarries\n",
        "# utilities\n",
        "import re\n",
        "import numpy as np\n",
        "import pandas as pd\n",
        "# plotting\n",
        "import seaborn as sns\n",
        "from wordcloud import WordCloud\n",
        "import matplotlib.pyplot as plt\n",
        "# nltk\n",
        "import nltk\n",
        "from nltk.stem import WordNetLemmatizer\n",
        "lemmatizer=WordNetLemmatizer()\n",
        "from nltk.corpus import stopwords\n",
        "from nltk.stem.porter import PorterStemmer\n",
        "ps = PorterStemmer()\n",
        "import string"
      ]
    },
    {
      "cell_type": "code",
      "source": [
        " nltk.download('stopwords')\n",
        " nltk.download('wordnet')\n",
        " nltk.download('omw-1.4')"
      ],
      "metadata": {
        "id": "uajMNrIi1Cx2"
      },
      "execution_count": null,
      "outputs": []
    },
    {
      "cell_type": "code",
      "execution_count": null,
      "metadata": {
        "id": "SjfcB02oAibq"
      },
      "outputs": [],
      "source": [
        "# Import Dataset\n",
        "df = pd.read_csv('train.csv',encoding='latin')\n",
        "df.head()"
      ]
    },
    {
      "cell_type": "code",
      "execution_count": null,
      "metadata": {
        "id": "60qz-gc3lIUL"
      },
      "outputs": [],
      "source": [
        "# get the all coumns information of dataset\n",
        "df.info()"
      ]
    },
    {
      "cell_type": "code",
      "execution_count": null,
      "metadata": {
        "id": "KAGnDywyAihF"
      },
      "outputs": [],
      "source": [
        "df.describe()"
      ]
    },
    {
      "cell_type": "code",
      "execution_count": null,
      "metadata": {
        "id": "XfcnFKPHAikV"
      },
      "outputs": [],
      "source": [
        "# to take the two columns for setimental analysisi becase we dont need other columns\n",
        "df = df[['text','sentiment']]\n",
        "df.head()\n"
      ]
    },
    {
      "cell_type": "markdown",
      "metadata": {
        "id": "bXu4cSmK0Nop"
      },
      "source": [
        "# Visualize the data"
      ]
    },
    {
      "cell_type": "code",
      "execution_count": null,
      "metadata": {
        "id": "8lhjogx1AiqR",
        "scrolled": true
      },
      "outputs": [],
      "source": [
        "# Plotting the distribution for dataset.\n",
        "ax = df.groupby('sentiment').count().plot(kind='bar', title='Distribution of data',legend=False)\n",
        "ax.set_xticklabels(['Negative','Positive','neutral'], rotation=0)\n",
        "# Storing data in lists.\n",
        "text, sentiment = list(df['text']), list(df['sentiment'])"
      ]
    },
    {
      "cell_type": "code",
      "execution_count": null,
      "metadata": {
        "id": "y1RUQ078AxXv"
      },
      "outputs": [],
      "source": [
        "import seaborn as sns\n",
        "sns.countplot(x='sentiment', data=df)"
      ]
    },
    {
      "cell_type": "markdown",
      "metadata": {
        "id": "994hEbDV0Noq"
      },
      "source": [
        "# Lets do EDA of data"
      ]
    },
    {
      "cell_type": "code",
      "execution_count": null,
      "metadata": {
        "id": "Pj_4Cx-IAxbl"
      },
      "outputs": [],
      "source": [
        "# to Lower all Characters in data\n",
        "df['text']=df['text'].str.lower()\n",
        "df['text'].head()"
      ]
    },
    {
      "cell_type": "code",
      "execution_count": null,
      "metadata": {
        "id": "3JS7RQYSCGnE"
      },
      "outputs": [],
      "source": [
        "# Cleaning oue text data for i create funtion this will take our raw text data containing punctuation ,URLs,Stopwords and other and give clean text list  \n",
        "\"\"\"\n",
        "      Takes in a string and then performs the below:\n",
        "    1. Remove all punctuation\n",
        "    2. Remove all stopwords\n",
        "    3. Remove all URLs\n",
        "    4. Make all word in meaning full form\n",
        "    5. Returns a list of cleaned text\n",
        "    \"\"\"\n",
        "def text_preprocess(mess):\n",
        "    \n",
        "    review = re.sub('http[s]?://(?:[a-zA-Z]|[0-9]|[$-_@.&+]|[!* ****\\(\\),]|(?:%[0-9a-fA-F][0-9a-fA-F]))',' ',str(mess))\n",
        "    nopunc = [char for char in review if char not in string.punctuation]\n",
        "    nopunc = ''.join(nopunc)\n",
        "    text   =[word for word in nopunc.split() if word.lower() not in set(stopwords.words('english'))] \n",
        "    text= [ps.stem(word) for word in text if word not in set(stopwords.words('english'))] \n",
        "\n",
        "    return [lemmatizer.lemmatize(word) for word in text if word not in set(stopwords.words('english'))]"
      ]
    },
    {
      "cell_type": "code",
      "execution_count": null,
      "metadata": {
        "id": "tODmt-sqC2S2"
      },
      "outputs": [],
      "source": [
        "#function applying to our raw data\n",
        "df['text']= df['text'].apply(lambda x: text_preprocess(x))\n",
        "df['text'].head()"
      ]
    },
    {
      "cell_type": "code",
      "execution_count": null,
      "metadata": {
        "id": "Ikuq6Iocn0mU"
      },
      "outputs": [],
      "source": [
        "# droping the 'neutral' records \n",
        "df_final = df[df['sentiment'] != 'neutral']\n",
        "print(df_final.shape)\n"
      ]
    },
    {
      "cell_type": "code",
      "execution_count": null,
      "metadata": {
        "id": "fYkrJjic0Nou"
      },
      "outputs": [],
      "source": [
        "from keras.preprocessing.text import Tokenizer\n",
        "from keras.preprocessing.sequence import pad_sequences\n",
        "from tensorflow.keras.utils import to_categorical\n",
        "\n",
        "all_words = [word for tokens in df_final[\"text\"] for word in tokens]\n",
        "sentence_lengths = [len(tokens) for tokens in df_final[\"text\"] ]\n",
        "VOCAB = sorted(list(set(all_words)))\n",
        "print(\"%s words total, with a vocabulary size of %s\" % (len(all_words), len(VOCAB)))\n",
        "print(\"Max sentence length is %s\" % max(sentence_lengths))"
      ]
    },
    {
      "cell_type": "code",
      "execution_count": null,
      "metadata": {
        "id": "XqjrC9xpfolt"
      },
      "outputs": [],
      "source": [
        "#visualize  the model\n",
        "fig = plt.figure(figsize=(10, 10)) \n",
        "plt.xlabel('Sentence length')\n",
        "plt.ylabel('Number of sentences')\n",
        "plt.hist(sentence_lengths)\n",
        "plt.show()"
      ]
    },
    {
      "cell_type": "code",
      "execution_count": null,
      "metadata": {
        "id": "JhVGIklVdj_0"
      },
      "outputs": [],
      "source": [
        "# Creating the Bag of Words model [converting word to vectors] \n",
        "from sklearn.feature_extraction.text import CountVectorizer\n",
        "cv = CountVectorizer(analyzer=text_preprocess,max_features=2500)\n",
        "X = cv.fit(df_final['text'])\n",
        "X = cv.transform(df_final['text'])"
      ]
    },
    {
      "cell_type": "code",
      "execution_count": null,
      "metadata": {
        "id": "mf4IMFnOi7bx"
      },
      "outputs": [],
      "source": [
        "# TF-IDF - Term Frequency - Inverse Document Frequency \n",
        "# this weight is a statistical measure  to evaluate how important a word is to a document/message/teweets\n",
        "from sklearn.feature_extraction.text import TfidfTransformer\n",
        "tfidf = TfidfTransformer().fit(X)\n",
        "x = tfidf.transform(X)"
      ]
    },
    {
      "cell_type": "code",
      "execution_count": null,
      "metadata": {
        "id": "ss1qrzgCi7m-"
      },
      "outputs": [],
      "source": [
        "df_final['sentiment'] = pd.get_dummies(df_final['sentiment'],drop_first=True)"
      ]
    },
    {
      "cell_type": "code",
      "execution_count": null,
      "metadata": {
        "id": "jznF5oV50Nox"
      },
      "outputs": [],
      "source": [
        "# dividing the data into dependent and independent variables\n",
        "x = tfidf.transform(X)\n",
        "y = df_final['sentiment']"
      ]
    },
    {
      "cell_type": "code",
      "execution_count": null,
      "metadata": {
        "id": "AN-uPudukX2j"
      },
      "outputs": [],
      "source": [
        "#  spliting the data using Train Test Split() method\n",
        "from sklearn.model_selection import train_test_split\n",
        "X_train, X_test, y_train, y_test = train_test_split(x, y, test_size = 0.20, random_state = 0)\n",
        "print(X_train.shape,y_train.shape)"
      ]
    },
    {
      "cell_type": "markdown",
      "metadata": {
        "id": "bbLfAPg20Noz"
      },
      "source": [
        "# Buiding the machine learning model"
      ]
    },
    {
      "cell_type": "code",
      "execution_count": null,
      "metadata": {
        "id": "2qPJW35Kkn83"
      },
      "outputs": [],
      "source": [
        "from sklearn.naive_bayes import MultinomialNB\n",
        "tweet_detect_model = MultinomialNB().fit(X_train,y_train)"
      ]
    },
    {
      "cell_type": "code",
      "execution_count": null,
      "metadata": {
        "id": "bgTEpOdPkoHD"
      },
      "outputs": [],
      "source": [
        "y_pred = tweet_detect_model.predict(X_test)"
      ]
    },
    {
      "cell_type": "code",
      "execution_count": null,
      "metadata": {
        "id": "lcyqD8Stmqk1"
      },
      "outputs": [],
      "source": [
        "from sklearn.metrics import classification_report,confusion_matrix,accuracy_score\n",
        "print(\"The accuracy of the model is : \\n\",accuracy_score(y_test,y_pred))"
      ]
    },
    {
      "cell_type": "markdown",
      "metadata": {
        "id": "h44yWskx0NrC"
      },
      "source": [
        "# Evaluating the model"
      ]
    },
    {
      "cell_type": "code",
      "execution_count": null,
      "metadata": {
        "id": "hpGJW4-clgpk"
      },
      "outputs": [],
      "source": [
        "from sklearn.metrics import classification_report,confusion_matrix,accuracy_score\n",
        "print(\" the confusion matrix is \\n\",confusion_matrix(y_test,y_pred))\n",
        "print(\"The classification report:\\n\",classification_report(y_test,y_pred))"
      ]
    },
    {
      "cell_type": "markdown",
      "metadata": {
        "id": "Mqv3fLC60NrC"
      },
      "source": [
        "# Testing the model"
      ]
    },
    {
      "cell_type": "code",
      "execution_count": null,
      "metadata": {
        "id": "feB7VsU3lg_D"
      },
      "outputs": [],
      "source": [
        "t_mess = \"Hi, you are honest person\"\n",
        "cv_1 = cv.transform([t_mess])\n",
        "t_tfidf = tfidf.transform(cv_1)\n",
        "tweet_detect_model.predict(t_tfidf)[0]"
      ]
    },
    {
      "cell_type": "code",
      "execution_count": null,
      "metadata": {
        "id": "Ae1vjf4JlhK5"
      },
      "outputs": [],
      "source": [
        ""
      ]
    }
  ],
  "metadata": {
    "accelerator": "GPU",
    "colab": {
      "collapsed_sections": [],
      "name": "Sentimental_Analysis.ipynb",
      "private_outputs": true,
      "provenance": []
    },
    "gpuClass": "standard",
    "kernelspec": {
      "display_name": "Python 3",
      "language": "python",
      "name": "python3"
    },
    "language_info": {
      "codemirror_mode": {
        "name": "ipython",
        "version": 3
      },
      "file_extension": ".py",
      "mimetype": "text/x-python",
      "name": "python",
      "nbconvert_exporter": "python",
      "pygments_lexer": "ipython3",
      "version": "3.8.8"
    }
  },
  "nbformat": 4,
  "nbformat_minor": 0
}